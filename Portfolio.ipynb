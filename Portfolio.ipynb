{
 "cells": [
  {
   "cell_type": "code",
   "execution_count": 22,
   "id": "ae39ff2b",
   "metadata": {},
   "outputs": [],
   "source": [
    "import pandas as pd\n",
    "import numpy as np\n",
    "import cvxpy as cp\n",
    "import matplotlib.pyplot as plt\n",
    "\n"
   ]
  },
  {
   "cell_type": "markdown",
   "id": "4e1a3842",
   "metadata": {},
   "source": [
    "### Exploratory Analysis"
   ]
  },
  {
   "cell_type": "code",
   "execution_count": 14,
   "id": "c0d1c1e7",
   "metadata": {},
   "outputs": [
    {
     "name": "stdout",
     "output_type": "stream",
     "text": [
      "Asset Performance Summary:\n",
      "          Annual Return (%)  Annual Volatility (%)  Sharpe Ratio\n",
      "Consumer               4.51                  16.66          0.27\n",
      "Manuf                  7.57                  21.13          0.36\n",
      "HiTec                 21.59                  25.62          0.84\n",
      "Hlth                   8.29                  18.20          0.46\n",
      "btc                   29.82                  68.32          0.44\n",
      "eth                   21.05                  88.06          0.24\n"
     ]
    }
   ],
   "source": [
    "# Merged price and return data\n",
    "prices = pd.read_csv(\"data/cleaned/all_prices.csv\", parse_dates=[\"Date\"], index_col=\"Date\")\n",
    "log_returns = pd.read_csv(\"data/cleaned/log_returns.csv\", parse_dates=[\"Date\"], index_col=\"Date\")\n",
    "\n",
    "# Annualized metrics\n",
    "days_per_year = 252\n",
    "mean_daily = log_returns.mean()\n",
    "vol_daily = log_returns.std()\n",
    "\n",
    "annual_return = (np.exp(mean_daily * days_per_year) - 1) * 100  # in percent\n",
    "annual_volatility = vol_daily * np.sqrt(days_per_year) * 100  # in percent\n",
    "sharpe_ratio = annual_return / annual_volatility\n",
    "\n",
    "# DataFrame summary \n",
    "summary = pd.DataFrame({\n",
    "    \"Annual Return (%)\": annual_return.round(2),\n",
    "    \"Annual Volatility (%)\": annual_volatility.round(2),\n",
    "    \"Sharpe Ratio\": sharpe_ratio.round(2)\n",
    "})\n",
    "\n",
    "print(\"Asset Performance Summary:\")\n",
    "print(summary)\n"
   ]
  },
  {
   "cell_type": "markdown",
   "id": "82d2f9c8",
   "metadata": {},
   "source": [
    "## Covariance and Correlation"
   ]
  },
  {
   "cell_type": "code",
   "execution_count": 15,
   "id": "ffca2667",
   "metadata": {},
   "outputs": [
    {
     "name": "stdout",
     "output_type": "stream",
     "text": [
      "Annualized Covariance Matrix:\n",
      "          Consumer     Manuf     HiTec      Hlth       btc       eth\n",
      "Consumer  0.027756  0.028857  0.026588  0.022377  0.022111  0.031688\n",
      "Manuf     0.028857  0.044644  0.041986  0.029268  0.037202  0.050891\n",
      "HiTec     0.026588  0.041986  0.065636  0.035206  0.050643  0.068657\n",
      "Hlth      0.022377  0.029268  0.035206  0.033107  0.026747  0.037991\n",
      "btc       0.022111  0.037202  0.050643  0.026747  0.466794  0.490175\n",
      "eth       0.031688  0.050891  0.068657  0.037991  0.490175  0.775390\n",
      "\n",
      "Annualized Correlation Matrix:\n",
      "          Consumer  Manuf  HiTec  Hlth   btc   eth\n",
      "Consumer      1.00   0.82   0.62  0.74  0.19  0.22\n",
      "Manuf         0.82   1.00   0.78  0.76  0.26  0.27\n",
      "HiTec         0.62   0.78   1.00  0.76  0.29  0.30\n",
      "Hlth          0.74   0.76   0.76  1.00  0.22  0.24\n",
      "btc           0.19   0.26   0.29  0.22  1.00  0.81\n",
      "eth           0.22   0.27   0.30  0.24  0.81  1.00\n"
     ]
    }
   ],
   "source": [
    "# 1) Log-returns\n",
    "log_ret = pd.read_csv(\n",
    "    \"data/cleaned/log_returns.csv\",\n",
    "    parse_dates=[\"Date\"], index_col=\"Date\"\n",
    ")\n",
    "\n",
    "# 2) Daily covariance, then annualize\n",
    "daily_cov = log_ret.cov()\n",
    "annual_cov = daily_cov * 252   # approx. trading days per year\n",
    "\n",
    "# 3) Correlation matrix\n",
    "annual_corr = log_ret.corr()\n",
    "\n",
    "# 4) Save or display\n",
    "print(\"Annualized Covariance Matrix:\")\n",
    "print(annual_cov.round(6))\n",
    "\n",
    "print(\"\\nAnnualized Correlation Matrix:\")\n",
    "print(annual_corr.round(2))\n",
    "\n",
    "# Save to CSV:\n",
    "annual_cov.to_csv(\"data/cleaned/annual_cov.csv\")\n",
    "annual_corr.to_csv(\"data/cleaned/annual_corr.csv\")\n"
   ]
  },
  {
   "cell_type": "markdown",
   "id": "fa285360",
   "metadata": {},
   "source": [
    "### Industry risk parity"
   ]
  },
  {
   "cell_type": "code",
   "execution_count": 16,
   "id": "501eec6e",
   "metadata": {},
   "outputs": [
    {
     "name": "stdout",
     "output_type": "stream",
     "text": [
      "Industries-only Risk-Parity Weights:\n",
      "  Consumer: 0.3032\n",
      "  Manuf: 0.2269\n",
      "  HiTec: 0.1986\n",
      "  Hlth: 0.2713\n"
     ]
    }
   ],
   "source": [
    "# 1) Load annualized covariance for the four industries\n",
    "cov = pd.read_csv(\"data/cleaned/annual_cov.csv\", index_col=0)\n",
    "# Select the sub‐matrix for industries only\n",
    "assets = [\"Consumer\", \"Manuf\", \"HiTec\", \"Hlth\"]\n",
    "Σ = cov.loc[assets, assets].values\n",
    "n = len(assets)\n",
    "\n",
    "# 2) Risk-parity target: equal risk contributions ρ = (1/n,...,1/n)\n",
    "ρ = np.ones(n) / n\n",
    "\n",
    "# 3) Solve for x★ by minimizing ½ xᵀΣx – ρᵀ log(x)\n",
    "x = cp.Variable(n, pos=True)\n",
    "obj = 0.5 * cp.quad_form(x, Σ) - ρ @ cp.log(x)\n",
    "prob = cp.Problem(cp.Minimize(obj))\n",
    "prob.solve()\n",
    "\n",
    "x_star = x.value\n",
    "\n",
    "# 4) Normalize so weights sum to 1\n",
    "w = x_star / np.sum(x_star)\n",
    "\n",
    "# 5) Report\n",
    "weights = dict(zip(assets, np.round(w, 4)))\n",
    "print(\"Industries-only Risk-Parity Weights:\")\n",
    "for a, wi in weights.items():\n",
    "    print(f\"  {a}: {wi}\")\n"
   ]
  },
  {
   "cell_type": "markdown",
   "id": "fe8841ad",
   "metadata": {},
   "source": [
    "### BackTest Industry       "
   ]
  },
  {
   "cell_type": "code",
   "execution_count": 17,
   "id": "950d55c5",
   "metadata": {},
   "outputs": [
    {
     "name": "stdout",
     "output_type": "stream",
     "text": [
      "  → Written industry_value.csv\n",
      "Industry-Only Portfolio Backtest:\n",
      " Annual Return (%):     9.93\n",
      " Annual Volatility (%): 17.80\n",
      " Sharpe Ratio:          0.56\n",
      " Max Drawdown (%):      -31.88\n"
     ]
    },
    {
     "name": "stderr",
     "output_type": "stream",
     "text": [
      "/var/folders/jp/82zjtkm90vgbycmw30_2kztm0000gn/T/ipykernel_16972/2510856733.py:25: FutureWarning: Series.__getitem__ treating keys as positions is deprecated. In a future version, integer keys will always be treated as labels (consistent with DataFrame behavior). To access a value by position, use `ser.iloc[pos]`\n",
      "  ann_return = (port_val[-1]**(days/T) - 1) * 100\n"
     ]
    }
   ],
   "source": [
    "# Load merged prices\n",
    "prices = pd.read_csv(\"data/cleaned/all_prices.csv\", parse_dates=[\"Date\"], index_col=\"Date\")\n",
    "\n",
    "# Industry-only weights\n",
    "weights = {\n",
    "    \"Consumer\": 0.3032,\n",
    "    \"Manuf\":    0.2269,\n",
    "    \"HiTec\":    0.1986,\n",
    "    \"Hlth\":     0.2713\n",
    "}\n",
    "\n",
    "# Extract industry prices\n",
    "ind_prices = prices[list(weights.keys())]\n",
    "\n",
    "# Daily returns\n",
    "daily_ret = ind_prices.pct_change().dropna()\n",
    "port_ret = daily_ret.dot(pd.Series(weights))\n",
    "\n",
    "# Portfolio value\n",
    "port_val = (1 + port_ret).cumprod()\n",
    "\n",
    "# Metrics\n",
    "T = len(port_ret)\n",
    "days = 252\n",
    "ann_return = (port_val[-1]**(days/T) - 1) * 100\n",
    "ann_vol = port_ret.std() * np.sqrt(days) * 100\n",
    "sharpe = ann_return / ann_vol\n",
    "drawdown = (port_val / port_val.cummax() - 1).min() * 100\n",
    "\n",
    "pd.DataFrame({\"Value\": port_val}) \\\n",
    "  .to_csv(\"data/cleaned/industry_value.csv\", index_label=\"Date\")\n",
    "print(\"  → Written industry_value.csv\")\n",
    "\n",
    "print(\"Industry-Only Portfolio Backtest:\")\n",
    "print(f\" Annual Return (%):     {ann_return:.2f}\")\n",
    "print(f\" Annual Volatility (%): {ann_vol:.2f}\")\n",
    "print(f\" Sharpe Ratio:          {sharpe:.2f}\")\n",
    "print(f\" Max Drawdown (%):      {drawdown:.2f}\")\n",
    "\n",
    "\n"
   ]
  },
  {
   "cell_type": "markdown",
   "id": "ec4c4c67",
   "metadata": {},
   "source": [
    "### Backtest Crypto"
   ]
  },
  {
   "cell_type": "code",
   "execution_count": 18,
   "id": "7a23cb5a",
   "metadata": {},
   "outputs": [
    {
     "name": "stdout",
     "output_type": "stream",
     "text": [
      "Crypto Risk‐Parity Weights:\n",
      "  btc: 0.5638\n",
      "  eth: 0.4362\n",
      "  → Written crypto_value.csv\n",
      "\n",
      "Crypto-Only Portfolio Backtest:\n",
      " Annual Return (%):     30.05\n",
      " Annual Volatility (%): 72.12\n",
      " Sharpe Ratio:          0.42\n",
      " Max Drawdown (%):      -86.55\n"
     ]
    },
    {
     "name": "stderr",
     "output_type": "stream",
     "text": [
      "/var/folders/jp/82zjtkm90vgbycmw30_2kztm0000gn/T/ipykernel_16972/1259817024.py:27: FutureWarning: Series.__getitem__ treating keys as positions is deprecated. In a future version, integer keys will always be treated as labels (consistent with DataFrame behavior). To access a value by position, use `ser.iloc[pos]`\n",
      "  ann_return = (port_val[-1]**(days/T) - 1) * 100\n"
     ]
    }
   ],
   "source": [
    "# 1) Load merged prices\n",
    "prices = pd.read_csv(\"data/cleaned/all_prices.csv\", parse_dates=[\"Date\"], index_col=\"Date\")\n",
    "\n",
    "# 2) Extract crypto prices & compute daily returns\n",
    "crypto = prices[[\"btc\",\"eth\"]]\n",
    "daily_ret = crypto.pct_change().dropna()\n",
    "\n",
    "# 3) Estimate annualized volatilities\n",
    "days = 252\n",
    "sigma_daily = daily_ret.std()\n",
    "sigma_annual = sigma_daily * np.sqrt(days)\n",
    "\n",
    "# 4) Compute risk‐parity weights (inverse vol)\n",
    "inv_vol = 1 / sigma_annual\n",
    "w = inv_vol / inv_vol.sum()\n",
    "weights = w.to_dict()\n",
    "print(\"Crypto Risk‐Parity Weights:\")\n",
    "for asset, wi in weights.items():\n",
    "    print(f\"  {asset}: {wi:.4f}\")\n",
    "\n",
    "# 5) Portfolio returns and value\n",
    "port_ret = daily_ret.dot(w)\n",
    "port_val = (1 + port_ret).cumprod()\n",
    "\n",
    "# 6) Performance metrics\n",
    "T = len(port_ret)\n",
    "ann_return = (port_val[-1]**(days/T) - 1) * 100\n",
    "ann_vol    = port_ret.std() * np.sqrt(days) * 100\n",
    "sharpe     = ann_return / ann_vol\n",
    "drawdown  = (port_val / port_val.cummax() - 1).min() * 100\n",
    "\n",
    "pd.DataFrame({\"Value\": port_val}) \\\n",
    "  .to_csv(\"data/cleaned/crypto_value.csv\", index_label=\"Date\")\n",
    "print(\"  → Written crypto_value.csv\")\n",
    "\n",
    "\n",
    "# 7) Display results\n",
    "print(\"\\nCrypto-Only Portfolio Backtest:\")\n",
    "print(f\" Annual Return (%):     {ann_return:.2f}\")\n",
    "print(f\" Annual Volatility (%): {ann_vol:.2f}\")\n",
    "print(f\" Sharpe Ratio:          {sharpe:.2f}\")\n",
    "print(f\" Max Drawdown (%):      {drawdown:.2f}\")\n"
   ]
  },
  {
   "cell_type": "markdown",
   "id": "8848e94d",
   "metadata": {},
   "source": [
    "### Combined Constrained Risk Allocation Portfolio"
   ]
  },
  {
   "cell_type": "code",
   "execution_count": 19,
   "id": "9ef8f757",
   "metadata": {},
   "outputs": [
    {
     "name": "stdout",
     "output_type": "stream",
     "text": [
      "Combined CRA Portfolio Weights:\n",
      "  Consumer: 0.1302\n",
      "  Manuf: 0.0948\n",
      "  HiTec: 0.0808\n",
      "  Hlth: 0.1155\n",
      "  btc: 0.0372\n",
      "  eth: 0.0282\n",
      "  cash: 0.5132\n",
      "  → Written cra_value.csv\n",
      "\n",
      "Combined CRA Backtest:\n",
      " Annual Return (%):     7.87\n",
      " Annual Volatility (%): 9.86\n",
      " Sharpe Ratio:          0.80\n",
      " Max Drawdown (%):      -16.94\n"
     ]
    },
    {
     "name": "stderr",
     "output_type": "stream",
     "text": [
      "/var/folders/jp/82zjtkm90vgbycmw30_2kztm0000gn/T/ipykernel_16972/2497012966.py:51: FutureWarning: Series.__getitem__ treating keys as positions is deprecated. In a future version, integer keys will always be treated as labels (consistent with DataFrame behavior). To access a value by position, use `ser.iloc[pos]`\n",
      "  ann_ret = (port_val[-1]**(days/T) - 1) * 100\n"
     ]
    }
   ],
   "source": [
    "# 1) Load annualized covariance matrix\n",
    "cov = pd.read_csv(\"data/cleaned/annual_cov.csv\", index_col=0)\n",
    "assets = [\"Consumer\",\"Manuf\",\"HiTec\",\"Hlth\",\"btc\",\"eth\"]\n",
    "Σ = cov.loc[assets, assets].values\n",
    "n = len(assets)\n",
    "\n",
    "# 2) Set parameters\n",
    "rho = np.ones(n) / n       # equal risk contributions\n",
    "sigma = 0.10               # 10% annualized target vol\n",
    "max_crypto = 0.10          # 10% max weight for btc+eth\n",
    "\n",
    "# 3) Step A: solve for x★\n",
    "x = cp.Variable(n, pos=True)\n",
    "objective = 0.5 * cp.quad_form(x, Σ) - rho @ cp.log(x)\n",
    "prob = cp.Problem(cp.Minimize(objective))\n",
    "prob.solve()\n",
    "x_star = x.value\n",
    "\n",
    "# 4) Step B: compute scale α\n",
    "#   a) exposure cap\n",
    "α1 = 1 / np.sum(x_star)\n",
    "#   b) volatility cap\n",
    "port_var = x_star.T @ Σ @ x_star\n",
    "α2 = sigma / np.sqrt(port_var)\n",
    "#   c) crypto weight cap (assets[-2:] are btc, eth)\n",
    "α3 = max_crypto / np.sum(x_star[-2:])\n",
    "α = min(α1, α2, α3)\n",
    "\n",
    "# 5) Compute final weights and cash\n",
    "w = α * x_star\n",
    "cash = 1 - np.sum(w)\n",
    "weights = dict(zip(assets, np.round(w, 4)))\n",
    "weights[\"cash\"] = round(cash,4)\n",
    "\n",
    "# 6) Output weights\n",
    "print(\"Combined CRA Portfolio Weights:\")\n",
    "for a, wi in weights.items():\n",
    "    print(f\"  {a}: {wi}\")\n",
    "\n",
    "# 7) Back-test\n",
    "prices = pd.read_csv(\"data/cleaned/all_prices.csv\", parse_dates=[\"Date\"], index_col=\"Date\")\n",
    "daily_ret = prices.pct_change().dropna()\n",
    "\n",
    "# portfolio returns (ignore cash, which has 0 return)\n",
    "port_ret = daily_ret[assets].dot(w)\n",
    "port_val = (1 + port_ret).cumprod()\n",
    "\n",
    "# metrics\n",
    "days = 252\n",
    "T = len(port_ret)\n",
    "ann_ret = (port_val[-1]**(days/T) - 1) * 100\n",
    "ann_vol = port_ret.std() * np.sqrt(days) * 100\n",
    "sharpe = ann_ret / ann_vol\n",
    "drawdown = (port_val / port_val.cummax() - 1).min() * 100\n",
    "\n",
    "pd.DataFrame({\"Value\": port_val}) \\\n",
    "  .to_csv(\"data/cleaned/cra_value.csv\", index_label=\"Date\")\n",
    "print(\"  → Written cra_value.csv\")\n",
    "\n",
    "\n",
    "print(\"\\nCombined CRA Backtest:\")\n",
    "print(f\" Annual Return (%):     {ann_ret:.2f}\")\n",
    "print(f\" Annual Volatility (%): {ann_vol:.2f}\")\n",
    "print(f\" Sharpe Ratio:          {sharpe:.2f}\")\n",
    "print(f\" Max Drawdown (%):      {drawdown:.2f}\")\n"
   ]
  },
  {
   "cell_type": "markdown",
   "id": "018fe5ad",
   "metadata": {},
   "source": [
    "### Dynamically Diluted 90/10 (DD 90/10) Strategy"
   ]
  },
  {
   "cell_type": "code",
   "execution_count": 20,
   "id": "3400a1f5",
   "metadata": {},
   "outputs": [
    {
     "name": "stdout",
     "output_type": "stream",
     "text": [
      "  → Written dd90_10_value.csv\n",
      "DD 90/10 Portfolio Backtest:\n",
      " Annual Return (%):     11.75\n",
      " Annual Volatility (%): 9.59\n",
      " Sharpe Ratio:          1.23\n",
      " Max Drawdown (%):      -14.51\n"
     ]
    }
   ],
   "source": [
    "# 1) Load merged prices & compute daily returns\n",
    "prices = pd.read_csv(\"data/cleaned/all_prices.csv\", parse_dates=[\"Date\"], index_col=\"Date\")\n",
    "daily_ret = prices.pct_change().dropna()\n",
    "\n",
    "# 2) Define base weights (90/10 split)\n",
    "base_w = pd.Series({\n",
    "    \"Consumer\": 0.90/4,\n",
    "    \"Manuf\":    0.90/4,\n",
    "    \"HiTec\":    0.90/4,\n",
    "    \"Hlth\":     0.90/4,\n",
    "    \"btc\":      0.10/2,\n",
    "    \"eth\":      0.10/2\n",
    "})\n",
    "\n",
    "# 3) Compute base portfolio return Series\n",
    "base_ret = daily_ret[base_w.index].dot(base_w)\n",
    "\n",
    "# 4) Rolling vol estimator on base_ret (10-day EWMA)\n",
    "lam = 0.5 ** (1/10)   # half-life = 10 days\n",
    "vol_est = base_ret.ewm(alpha=1-lam).std() * np.sqrt(252)\n",
    "\n",
    "# 5) Scale factor αₜ = target_vol / vol_estₜ\n",
    "target_vol = 0.10\n",
    "alpha = (target_vol / vol_est).clip(upper=1.0)\n",
    "\n",
    "# 6) Portfolio returns after scaling to risk target\n",
    "port_ret = base_ret * alpha\n",
    "\n",
    "# 7) Portfolio value (start at 1)\n",
    "port_val = (1 + port_ret).cumprod()\n",
    "\n",
    "# 8) Performance metrics\n",
    "days = 252\n",
    "T = len(port_ret)\n",
    "final_value = port_val.iloc[-1]\n",
    "ann_return = (final_value ** (days/T) - 1) * 100\n",
    "ann_vol    = port_ret.std() * np.sqrt(days) * 100\n",
    "sharpe     = ann_return / ann_vol\n",
    "drawdown   = (port_val / port_val.cummax() - 1).min() * 100\n",
    "\n",
    "pd.DataFrame({\"Value\": port_val}) \\\n",
    "  .to_csv(\"data/cleaned/dd90_10_value.csv\", index_label=\"Date\")\n",
    "print(\"  → Written dd90_10_value.csv\")\n",
    "\n",
    "\n",
    "# 9) Print results\n",
    "print(\"DD 90/10 Portfolio Backtest:\")\n",
    "print(f\" Annual Return (%):     {ann_return:.2f}\")\n",
    "print(f\" Annual Volatility (%): {ann_vol:.2f}\")\n",
    "print(f\" Sharpe Ratio:          {sharpe:.2f}\")\n",
    "print(f\" Max Drawdown (%):      {drawdown:.2f}\")\n"
   ]
  },
  {
   "cell_type": "markdown",
   "id": "4fc9234e",
   "metadata": {},
   "source": [
    "### Comparison Table & Plot"
   ]
  },
  {
   "cell_type": "code",
   "execution_count": 23,
   "id": "fb5b1054",
   "metadata": {},
   "outputs": [
    {
     "name": "stdout",
     "output_type": "stream",
     "text": [
      "\n",
      "Performance Comparison (all start @1.0):\n",
      "              Ann Return (%)  Ann Vol (%)  Sharpe  Max Drawdown (%)\n",
      "Strategy                                                           \n",
      "Industry RP             9.94        17.80    0.56            -31.88\n",
      "Crypto RP              30.06        72.12    0.42            -86.55\n",
      "Combined CRA            7.88         9.87    0.80            -16.94\n",
      "DD 90/10               11.77         9.59    1.23            -14.51\n"
     ]
    },
    {
     "data": {
      "image/png": "[encoded data removed]",
      "text/plain": [
       "<Figure size 800x500 with 1 Axes>"
      ]
     },
     "metadata": {},
     "output_type": "display_data"
    }
   ],
   "source": [
    "def compute_metrics(val):\n",
    "    ret = val.pct_change().dropna()\n",
    "    T = len(ret); days = 252\n",
    "    final = val.iloc[-1]\n",
    "    ann_ret = (final ** (days/T) - 1) * 100\n",
    "    ann_vol = ret.std() * np.sqrt(days) * 100\n",
    "    sharpe  = ann_ret / ann_vol\n",
    "    drawdown= (val / val.cummax() - 1).min() * 100\n",
    "    return ann_ret, ann_vol, sharpe, drawdown\n",
    "\n",
    "# 1) Load value series\n",
    "series = {\n",
    "    \"Industry RP\": pd.read_csv(\"data/cleaned/industry_value.csv\", parse_dates=[\"Date\"], index_col=\"Date\")[\"Value\"],\n",
    "    \"Crypto RP\":   pd.read_csv(\"data/cleaned/crypto_value.csv\",   parse_dates=[\"Date\"], index_col=\"Date\")[\"Value\"],\n",
    "    \"Combined CRA\":pd.read_csv(\"data/cleaned/cra_value.csv\",      parse_dates=[\"Date\"], index_col=\"Date\")[\"Value\"],\n",
    "    \"DD 90/10\":     pd.read_csv(\"data/cleaned/dd90_10_value.csv\", parse_dates=[\"Date\"], index_col=\"Date\")[\"Value\"],\n",
    "}\n",
    "\n",
    "# 2) Build summary\n",
    "rows = []\n",
    "for name, val in series.items():\n",
    "    rows.append((name, *compute_metrics(val)))\n",
    "summary = pd.DataFrame(rows, columns=[\n",
    "    \"Strategy\",\"Ann Return (%)\",\"Ann Vol (%)\",\"Sharpe\",\"Max Drawdown (%)\"\n",
    "]).set_index(\"Strategy\")\n",
    "\n",
    "print(\"\\nPerformance Comparison (all start @1.0):\")\n",
    "print(summary.round(2))\n",
    "\n",
    "# 3) Plot growth curves\n",
    "plt.figure(figsize=(8,5))\n",
    "for name, val in series.items():\n",
    "    plt.plot(val.index, val, label=name)\n",
    "plt.legend(); plt.title(\"Strategy Growth Curves\"); plt.xlabel(\"Date\"); plt.ylabel(\"Value\")\n",
    "plt.tight_layout()\n",
    "plt.show()\n"
   ]
  }
 ],
 "metadata": {
  "kernelspec": {
   "display_name": "venv",
   "language": "python",
   "name": "python3"
  },
  "language_info": {
   "codemirror_mode": {
    "name": "ipython",
    "version": 3
   },
   "file_extension": ".py",
   "mimetype": "text/x-python",
   "name": "python",
   "nbconvert_exporter": "python",
   "pygments_lexer": "ipython3",
   "version": "3.13.0"
  }
 },
 "nbformat": 4,
 "nbformat_minor": 5
}
